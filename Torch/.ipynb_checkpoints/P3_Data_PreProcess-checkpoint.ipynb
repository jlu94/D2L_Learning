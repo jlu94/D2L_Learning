{
 "cells": [
  {
   "cell_type": "markdown",
   "id": "d31cdeac",
   "metadata": {},
   "source": [
    "读取原始数据（pandas）"
   ]
  },
  {
   "cell_type": "markdown",
   "id": "88fc279b",
   "metadata": {},
   "source": [
    "创建一个人工数据集，并存储在csv文件"
   ]
  },
  {
   "cell_type": "code",
   "execution_count": 13,
   "id": "ca4d1dac",
   "metadata": {},
   "outputs": [],
   "source": [
    "import os\n",
    "\n",
    "#创建一个名为data的文件夹\n",
    "os.makedirs(os.path.join('..', 'data'), exist_ok = True)\n",
    "#在新建的文件夹里新建一个.csv文件\n",
    "data_file = os.path.join('..', 'data', 'house_tiny.csv')\n",
    "with open(data_file, 'w') as f:\n",
    "    f.write('NumRooms, Alley, Price\\n')\n",
    "    f.write('NA, Pave, 127500\\n')\n",
    "    f.write('2, NA, 106000\\n')\n",
    "    f.write('4, NA, 178100\\n')\n",
    "    f.write('NA, NA, 140000\\n')"
   ]
  },
  {
   "cell_type": "markdown",
   "id": "4b4a95cb",
   "metadata": {},
   "source": [
    "从创建的csv文件中加载原始数据"
   ]
  },
  {
   "cell_type": "code",
   "execution_count": 14,
   "id": "bc864073",
   "metadata": {},
   "outputs": [
    {
     "name": "stdout",
     "output_type": "stream",
     "text": [
      "   NumRooms  Alley   Price\n",
      "0       NaN   Pave  127500\n",
      "1       2.0     NA  106000\n",
      "2       4.0     NA  178100\n",
      "3       NaN     NA  140000\n"
     ]
    }
   ],
   "source": [
    "import pandas as pd\n",
    "\n",
    "data = pd.read_csv(data_file)\n",
    "print(data)"
   ]
  },
  {
   "cell_type": "markdown",
   "id": "0444d76e",
   "metadata": {},
   "source": [
    "为了处理缺失的数据（其实机器学习要处理的问题，就是补全缺失/预测 数据），典型的方法包括 插值 和 删除，这里，我们将考虑插值"
   ]
  },
  {
   "cell_type": "code",
   "execution_count": 15,
   "id": "a3557265",
   "metadata": {},
   "outputs": [
    {
     "name": "stdout",
     "output_type": "stream",
     "text": [
      "   NumRooms  Alley\n",
      "0       3.0   Pave\n",
      "1       2.0     NA\n",
      "2       4.0     NA\n",
      "3       3.0     NA\n"
     ]
    },
    {
     "name": "stderr",
     "output_type": "stream",
     "text": [
      "/var/folders/y0/mm16nl015jzclk197wnsjmqw0000gn/T/ipykernel_694/2613855835.py:2: FutureWarning: Dropping of nuisance columns in DataFrame reductions (with 'numeric_only=None') is deprecated; in a future version this will raise TypeError.  Select only valid columns before calling the reduction.\n",
      "  inputs = inputs.fillna(inputs.mean()) #fillna,给NA格填充数值，mean（）所在列的平均值\n"
     ]
    }
   ],
   "source": [
    "inputs, outputs = data.iloc[:, 0:2], data.iloc[:, 2] #iloc, index location,按指定列索引\n",
    "inputs = inputs.fillna(inputs.mean()) #fillna,给NA格填充数值，mean（）所在列的平均值\n",
    "print(inputs)"
   ]
  },
  {
   "cell_type": "code",
   "execution_count": 16,
   "id": "978f600e",
   "metadata": {},
   "outputs": [
    {
     "name": "stdout",
     "output_type": "stream",
     "text": [
      "0    127500\n",
      "1    106000\n",
      "2    178100\n",
      "3    140000\n",
      "Name:  Price, dtype: int64\n"
     ]
    }
   ],
   "source": [
    "print(outputs)"
   ]
  },
  {
   "cell_type": "markdown",
   "id": "cc6fed08",
   "metadata": {},
   "source": [
    " 对于inputs中的类别值或者离散值，我们将“NaN（NA）”视为一个类别。"
   ]
  },
  {
   "cell_type": "code",
   "execution_count": 17,
   "id": "003af063",
   "metadata": {},
   "outputs": [
    {
     "name": "stdout",
     "output_type": "stream",
     "text": [
      "   NumRooms   Alley_ NA   Alley_ Pave   Alley_nan\n",
      "0       3.0           0             1           0\n",
      "1       2.0           1             0           0\n",
      "2       4.0           1             0           0\n",
      "3       3.0           1             0           0\n"
     ]
    }
   ],
   "source": [
    "inputs = pd.get_dummies(inputs, dummy_na=True)\n",
    "print(inputs)"
   ]
  },
  {
   "cell_type": "code",
   "execution_count": 18,
   "id": "7c174cb2",
   "metadata": {},
   "outputs": [
    {
     "name": "stdout",
     "output_type": "stream",
     "text": [
      "   NumRooms   Alley_ NA   Alley_ Pave\n",
      "0       3.0           0             1\n",
      "1       2.0           1             0\n",
      "2       4.0           1             0\n",
      "3       3.0           1             0\n"
     ]
    }
   ],
   "source": [
    "inputs = inputs.iloc[:, 0:3]\n",
    "print(inputs)"
   ]
  },
  {
   "cell_type": "markdown",
   "id": "9c3263f7",
   "metadata": {},
   "source": [
    "现在inputs和outputs中的所有条目都是数值类型，他们可以转换为张量格式"
   ]
  },
  {
   "cell_type": "code",
   "execution_count": 19,
   "id": "b0e774ee",
   "metadata": {},
   "outputs": [
    {
     "data": {
      "text/plain": [
       "(tensor([[3., 0., 1.],\n",
       "         [2., 1., 0.],\n",
       "         [4., 1., 0.],\n",
       "         [3., 1., 0.]], dtype=torch.float64),\n",
       " tensor([127500, 106000, 178100, 140000]))"
      ]
     },
     "execution_count": 19,
     "metadata": {},
     "output_type": "execute_result"
    }
   ],
   "source": [
    "import torch\n",
    "X, y = torch.tensor(inputs.values), torch.tensor(outputs.values)\n",
    "X, y"
   ]
  }
 ],
 "metadata": {
  "kernelspec": {
   "display_name": "Python 3 (ipykernel)",
   "language": "python",
   "name": "python3"
  },
  "language_info": {
   "codemirror_mode": {
    "name": "ipython",
    "version": 3
   },
   "file_extension": ".py",
   "mimetype": "text/x-python",
   "name": "python",
   "nbconvert_exporter": "python",
   "pygments_lexer": "ipython3",
   "version": "3.8.11"
  }
 },
 "nbformat": 4,
 "nbformat_minor": 5
}
