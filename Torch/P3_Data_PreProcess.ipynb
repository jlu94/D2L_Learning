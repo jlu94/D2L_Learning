{
 "cells": [
  {
   "cell_type": "markdown",
   "id": "d31cdeac",
   "metadata": {},
   "source": [
    "读取原始数据（pandas）"
   ]
  },
  {
   "cell_type": "markdown",
   "id": "88fc279b",
   "metadata": {},
   "source": [
    "创建一个人工数据集，并存储在csv文件"
   ]
  },
  {
   "cell_type": "code",
   "execution_count": 4,
   "id": "ca4d1dac",
   "metadata": {},
   "outputs": [],
   "source": [
    "import os\n",
    "\n",
    "#创建一个名为data的文件夹\n",
    "os.makedirs(os.path.join('..', 'data'), exist_ok = True)\n",
    "#在新建的文件夹里新建一个.csv文件\n",
    "data_file = os.path.join('..', 'data', 'house_tiny.csv')\n",
    "with open(data_file, 'w') as f:\n",
    "    f.write('NumRooms, Alley, Price\\n')\n",
    "    f.write('NA, Pave, 127500\\n')\n",
    "    f.write('2, NA, 106000\\n')\n",
    "    f.write('4, NA, 178100\\n')\n",
    "    f.write('NA, NA, 140000\\n')"
   ]
  },
  {
   "cell_type": "markdown",
   "id": "4b4a95cb",
   "metadata": {},
   "source": [
    "从创建的csv文件中加载原始数据"
   ]
  },
  {
   "cell_type": "code",
   "execution_count": 6,
   "id": "bc864073",
   "metadata": {},
   "outputs": [
    {
     "data": {
      "text/html": [
       "<div>\n",
       "<style scoped>\n",
       "    .dataframe tbody tr th:only-of-type {\n",
       "        vertical-align: middle;\n",
       "    }\n",
       "\n",
       "    .dataframe tbody tr th {\n",
       "        vertical-align: top;\n",
       "    }\n",
       "\n",
       "    .dataframe thead th {\n",
       "        text-align: right;\n",
       "    }\n",
       "</style>\n",
       "<table border=\"1\" class=\"dataframe\">\n",
       "  <thead>\n",
       "    <tr style=\"text-align: right;\">\n",
       "      <th></th>\n",
       "      <th>NumRooms</th>\n",
       "      <th>Alley</th>\n",
       "      <th>Price</th>\n",
       "    </tr>\n",
       "  </thead>\n",
       "  <tbody>\n",
       "    <tr>\n",
       "      <th>0</th>\n",
       "      <td>NaN</td>\n",
       "      <td>Pave</td>\n",
       "      <td>127500</td>\n",
       "    </tr>\n",
       "    <tr>\n",
       "      <th>1</th>\n",
       "      <td>2.0</td>\n",
       "      <td>NA</td>\n",
       "      <td>106000</td>\n",
       "    </tr>\n",
       "    <tr>\n",
       "      <th>2</th>\n",
       "      <td>4.0</td>\n",
       "      <td>NA</td>\n",
       "      <td>178100</td>\n",
       "    </tr>\n",
       "    <tr>\n",
       "      <th>3</th>\n",
       "      <td>NaN</td>\n",
       "      <td>NA</td>\n",
       "      <td>140000</td>\n",
       "    </tr>\n",
       "  </tbody>\n",
       "</table>\n",
       "</div>"
      ],
      "text/plain": [
       "   NumRooms  Alley   Price\n",
       "0       NaN   Pave  127500\n",
       "1       2.0     NA  106000\n",
       "2       4.0     NA  178100\n",
       "3       NaN     NA  140000"
      ]
     },
     "execution_count": 6,
     "metadata": {},
     "output_type": "execute_result"
    }
   ],
   "source": [
    "import pandas as pd\n",
    "\n",
    "data = pd.read_csv(data_file)\n",
    "data"
   ]
  },
  {
   "cell_type": "markdown",
   "id": "0444d76e",
   "metadata": {},
   "source": [
    "为了处理缺失的数据（其实机器学习要处理的问题，就是补全缺失/预测 数据），典型的方法包括 插值 和 删除，这里，我们将考虑插值"
   ]
  },
  {
   "cell_type": "code",
   "execution_count": 10,
   "id": "a3557265",
   "metadata": {},
   "outputs": [
    {
     "name": "stdout",
     "output_type": "stream",
     "text": [
      "   NumRooms  Alley\n",
      "0       3.0   Pave\n",
      "1       2.0     NA\n",
      "2       4.0     NA\n",
      "3       3.0     NA\n"
     ]
    },
    {
     "name": "stderr",
     "output_type": "stream",
     "text": [
      "/var/folders/y0/mm16nl015jzclk197wnsjmqw0000gn/T/ipykernel_3078/2613855835.py:2: FutureWarning: Dropping of nuisance columns in DataFrame reductions (with 'numeric_only=None') is deprecated; in a future version this will raise TypeError.  Select only valid columns before calling the reduction.\n",
      "  inputs = inputs.fillna(inputs.mean()) #fillna,给NA格填充数值，mean（）所在列的平均值\n"
     ]
    }
   ],
   "source": [
    "inputs, outputs = data.iloc[:, 0:2], data.iloc[:, 2] #iloc, index location,按指定列索引\n",
    "inputs = inputs.fillna(inputs.mean()) #fillna,给NA格填充数值，mean（）所在列的平均值\n",
    "print(inputs)"
   ]
  },
  {
   "cell_type": "code",
   "execution_count": null,
   "id": "70c41e8a",
   "metadata": {},
   "outputs": [],
   "source": []
  }
 ],
 "metadata": {
  "kernelspec": {
   "display_name": "Python 3 (ipykernel)",
   "language": "python",
   "name": "python3"
  },
  "language_info": {
   "codemirror_mode": {
    "name": "ipython",
    "version": 3
   },
   "file_extension": ".py",
   "mimetype": "text/x-python",
   "name": "python",
   "nbconvert_exporter": "python",
   "pygments_lexer": "ipython3",
   "version": "3.8.11"
  }
 },
 "nbformat": 4,
 "nbformat_minor": 5
}
